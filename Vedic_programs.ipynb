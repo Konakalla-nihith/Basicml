{
  "nbformat": 4,
  "nbformat_minor": 0,
  "metadata": {
    "colab": {
      "name": "Vedic programs",
      "provenance": [],
      "collapsed_sections": []
    },
    "kernelspec": {
      "name": "python3",
      "display_name": "Python 3"
    },
    "language_info": {
      "name": "python"
    }
  },
  "cells": [
    {
      "cell_type": "markdown",
      "metadata": {
        "id": "-u0CQwnDU_Gj"
      },
      "source": [
        "ADDITION OF TWO NUMBERS"
      ]
    },
    {
      "cell_type": "code",
      "metadata": {
        "id": "FBBqKiq9UzbL",
        "colab": {
          "base_uri": "https://localhost:8080/"
        },
        "outputId": "79f0d172-0b13-4773-9d15-7f8bad086bc4"
      },
      "source": [
        "#This program prints the result of sum of two numbers\n",
        "a=int(input())  #Taking the first input\n",
        "b=int(input())  #Taking the second input\n",
        "sum=a+b         #Adding the numbers\n",
        "print(sum)      #Printing the result"
      ],
      "execution_count": 1,
      "outputs": [
        {
          "output_type": "stream",
          "name": "stdout",
          "text": [
            "4\n",
            "6\n",
            "10\n"
          ]
        }
      ]
    },
    {
      "cell_type": "markdown",
      "metadata": {
        "id": "UgUcHyDUVPxf"
      },
      "source": [
        "SMALLEST OF THE NUMBERS"
      ]
    },
    {
      "cell_type": "code",
      "metadata": {
        "id": "kiQKQgtEViNL",
        "colab": {
          "base_uri": "https://localhost:8080/"
        },
        "outputId": "7a8daa2f-5537-4f31-86f7-9b367a8a7468"
      },
      "source": [
        "#This program prints the minimum of two numbers\n",
        "a=int(input())    #Taking the first input\n",
        "b=int(input())    #Taking the second input\n",
        "if a<b:\n",
        "  print(a)\n",
        "else:\n",
        "  print(b)"
      ],
      "execution_count": 2,
      "outputs": [
        {
          "output_type": "stream",
          "name": "stdout",
          "text": [
            "5\n",
            "2\n",
            "2\n"
          ]
        }
      ]
    },
    {
      "cell_type": "markdown",
      "metadata": {
        "id": "9BS31LU4Vvxl"
      },
      "source": [
        "PRINTING REVERSE OF STRING"
      ]
    },
    {
      "cell_type": "code",
      "metadata": {
        "id": "1-ectkTPVzgz",
        "colab": {
          "base_uri": "https://localhost:8080/"
        },
        "outputId": "e121a335-175f-455b-cc96-36bd62f59023"
      },
      "source": [
        "#This program prints the reverse of a string\n",
        "a=input()\n",
        "print(a[::-1])"
      ],
      "execution_count": 3,
      "outputs": [
        {
          "output_type": "stream",
          "name": "stdout",
          "text": [
            "akjsdhfoq\n",
            "qofhdsjka\n"
          ]
        }
      ]
    }
  ]
}